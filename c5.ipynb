{
 "cells": [
  {
   "cell_type": "markdown",
   "metadata": {},
   "source": [
    "# 데이터 유형"
   ]
  },
  {
   "cell_type": "markdown",
   "metadata": {},
   "source": [
    "## 파이썬의 데이터 유형(type)\n",
    "Number, String, List, Tuple, Dictionary, Set, Boolean, None"
   ]
  },
  {
   "cell_type": "markdown",
   "metadata": {},
   "source": [
    "### 데이터 유형의 확인"
   ]
  },
  {
   "cell_type": "code",
   "execution_count": 1,
   "metadata": {},
   "outputs": [
    {
     "name": "stdout",
     "output_type": "stream",
     "text": [
      "12345\n",
      "type(x_vaule) = <class 'int'>\n"
     ]
    }
   ],
   "source": [
    "x_vaule = 12345\n",
    "print(f'{x_vaule}\\n{type(x_vaule) = }')"
   ]
  },
  {
   "cell_type": "code",
   "execution_count": 2,
   "metadata": {},
   "outputs": [
    {
     "name": "stdout",
     "output_type": "stream",
     "text": [
      "abcde\n",
      "type(x_str) = <class 'str'>\n"
     ]
    }
   ],
   "source": [
    "x_str = 'abcde'\n",
    "print(f'{x_str}\\n{type(x_str) = }')"
   ]
  },
  {
   "cell_type": "markdown",
   "metadata": {},
   "source": [
    "### 변수는 객체\n",
    "파이썬에서는 모든 것이 객체, 객체는 클래스의 인스턴스로 생성하여 사용"
   ]
  },
  {
   "cell_type": "markdown",
   "metadata": {},
   "source": [
    "##### mutable: 원소의 수정 가능한 자료형(List, Dictionary)"
   ]
  },
  {
   "cell_type": "markdown",
   "metadata": {},
   "source": [
    "List"
   ]
  },
  {
   "cell_type": "code",
   "execution_count": 3,
   "metadata": {},
   "outputs": [
    {
     "name": "stdout",
     "output_type": "stream",
     "text": [
      "Before: x_list = ['abcde', 12345]\n",
      "After: x_list =['abcde', 'fghij']\n"
     ]
    }
   ],
   "source": [
    "x_list = ['abcde', 12345]\n",
    "print(f'Before: {x_list = }')\n",
    "\n",
    "x_list[1] = 'fghij'\n",
    "print(f'After: {x_list =}')"
   ]
  },
  {
   "cell_type": "markdown",
   "metadata": {},
   "source": [
    "Dictionary"
   ]
  },
  {
   "cell_type": "code",
   "execution_count": 4,
   "metadata": {},
   "outputs": [
    {
     "name": "stdout",
     "output_type": "stream",
     "text": [
      "Before: x_dict = {'name': 'Chunghun Ha', 'id': 67890}\n",
      "After: x_dict ={'name': 'Gildong Hong', 'id': 67890}\n"
     ]
    }
   ],
   "source": [
    "x_dict = {'name': 'Chunghun Ha', 'id': 67890}\n",
    "print(f'Before: {x_dict = }')\n",
    "\n",
    "x_dict['name'] = 'Gildong Hong'\n",
    "print(f'After: {x_dict =}')"
   ]
  },
  {
   "cell_type": "markdown",
   "metadata": {},
   "source": [
    "##### immutable: 문자열 -> 원소 바꾸기 불가"
   ]
  },
  {
   "cell_type": "markdown",
   "metadata": {},
   "source": [
    "String"
   ]
  },
  {
   "cell_type": "code",
   "execution_count": 5,
   "metadata": {},
   "outputs": [
    {
     "name": "stdout",
     "output_type": "stream",
     "text": [
      "Before: x_str = 'abcde'\n",
      "Error: 'str' object does not support item assignment\n",
      "After: x_str = 'abcde'\n"
     ]
    }
   ],
   "source": [
    "x_str = 'abcde'\n",
    "print(f'Before: {x_str = }')\n",
    "\n",
    "try:\n",
    "    x_str[1] = '2'\n",
    "except TypeError as e:\n",
    "    print(f'Error: {e}')\n",
    "    \n",
    "print(f'After: {x_str = }')\n"
   ]
  },
  {
   "cell_type": "markdown",
   "metadata": {},
   "source": [
    "Tuple"
   ]
  },
  {
   "cell_type": "code",
   "execution_count": 6,
   "metadata": {},
   "outputs": [
    {
     "name": "stdout",
     "output_type": "stream",
     "text": [
      "Before: x_tuple = ('abcde', 12345)\n",
      "Error: 'tuple' object does not support item assignment\n",
      "After: x_tuple = ('abcde', 12345)\n"
     ]
    }
   ],
   "source": [
    "x_tuple = ('abcde', 12345)\n",
    "print(f'Before: {x_tuple = }')\n",
    "\n",
    "try:\n",
    "    x_tuple[1] = 'fghij'\n",
    "except TypeError as e:\n",
    "    print(f'Error: {e}')\n",
    "    \n",
    "print(f'After: {x_tuple = }')\n",
    "\n"
   ]
  },
  {
   "cell_type": "markdown",
   "metadata": {},
   "source": [
    "### 자료형 변환"
   ]
  },
  {
   "cell_type": "markdown",
   "metadata": {},
   "source": [
    "##### 단일 자료형 변환 함수"
   ]
  },
  {
   "cell_type": "code",
   "execution_count": 8,
   "metadata": {},
   "outputs": [
    {
     "name": "stdout",
     "output_type": "stream",
     "text": [
      "12345는 <class 'int'>\n",
      "------------------------------\n",
      "12345.0는 <class 'float'>\n",
      "------------------------------\n",
      "12345는 <class 'str'>\n",
      "------------------------------\n",
      "True는 <class 'bool'>\n"
     ]
    }
   ],
   "source": [
    "var_x = 12345\n",
    "print(f'{var_x}는 {type(var_x)}', end='\\n'+'-'*30+'\\n')\n",
    "\n",
    "var_y = float(var_x) # 실수형으로 변환\n",
    "print(f'{var_y}는 {type(var_y)}', end='\\n'+'-'*30+'\\n')\n",
    "\n",
    "var_y = str(var_x) # 문자열로 변환\n",
    "print(f'{var_y}는 {type(var_y)}', end='\\n'+'-'*30+'\\n')\n",
    "\n",
    "var_y = bool(var_x) # 불리언으로 변환\n",
    "print(f'{var_y}는 {type(var_y)}')"
   ]
  },
  {
   "cell_type": "markdown",
   "metadata": {},
   "source": [
    "##### iterable 자료형 변환 함수"
   ]
  },
  {
   "cell_type": "code",
   "execution_count": 9,
   "metadata": {},
   "outputs": [
    {
     "name": "stdout",
     "output_type": "stream",
     "text": [
      "range(-10, 0, 2)는 <class 'range'>\n",
      "------------------------------\n",
      "[-10, -8, -6, -4, -2]는 <class 'list'>\n",
      "------------------------------\n",
      "(-10, -8, -6, -4, -2)는 <class 'tuple'>\n",
      "------------------------------\n",
      "{-10, -8, -6, -4, -2}는 <class 'set'>\n"
     ]
    }
   ],
   "source": [
    "var_x = range(-10, 0, 2)\n",
    "print(f'{var_x}는 {type(var_x)}', end='\\n'+'-'*30+'\\n')\n",
    "\n",
    "var_y = list(var_x) # 리스트로 변환\n",
    "print(f'{var_y}는 {type(var_y)}', end='\\n'+'-'*30+'\\n')\n",
    "\n",
    "var_y = tuple(var_x) # 튜플로 변환\n",
    "print(f'{var_y}는 {type(var_y)}', end='\\n'+'-'*30+'\\n')\n",
    "\n",
    "var_y = set(var_x) # 집합으로 변환\n",
    "print(f'{var_y}는 {type(var_y)}')"
   ]
  },
  {
   "cell_type": "code",
   "execution_count": 10,
   "metadata": {},
   "outputs": [
    {
     "name": "stdout",
     "output_type": "stream",
     "text": [
      "abcdab는 <class 'str'>\n",
      "------------------------------\n",
      "['a', 'b', 'c', 'd', 'a', 'b']는 <class 'list'>\n",
      "------------------------------\n",
      "('a', 'b', 'c', 'd', 'a', 'b')는 <class 'tuple'>\n",
      "------------------------------\n",
      "{'d', 'c', 'a', 'b'}는 <class 'set'>\n"
     ]
    }
   ],
   "source": [
    "var_x = 'abcdab'\n",
    "print(f'{var_x}는 {type(var_x)}', end='\\n'+'-'*30+'\\n')\n",
    "\n",
    "var_y = list(var_x) # 리스트로 변환\n",
    "print(f'{var_y}는 {type(var_y)}', end='\\n'+'-'*30+'\\n')\n",
    "\n",
    "var_y = tuple(var_x) # 튜플로 변환\n",
    "print(f'{var_y}는 {type(var_y)}', end='\\n'+'-'*30+'\\n')\n",
    "\n",
    "var_y = set(var_x) # 집합으로 변환\n",
    "print(f'{var_y}는 {type(var_y)}')"
   ]
  },
  {
   "cell_type": "markdown",
   "metadata": {},
   "source": [
    "iterable 자료형은 반복 가능"
   ]
  },
  {
   "cell_type": "code",
   "execution_count": 11,
   "metadata": {},
   "outputs": [
    {
     "name": "stdout",
     "output_type": "stream",
     "text": [
      "a\n",
      "b\n",
      "c\n",
      "d\n",
      "e\n"
     ]
    }
   ],
   "source": [
    "for i in 'abcde':\n",
    "    print(i)"
   ]
  }
 ],
 "metadata": {
  "kernelspec": {
   "display_name": "Python 3",
   "language": "python",
   "name": "python3"
  },
  "language_info": {
   "codemirror_mode": {
    "name": "ipython",
    "version": 3
   },
   "file_extension": ".py",
   "mimetype": "text/x-python",
   "name": "python",
   "nbconvert_exporter": "python",
   "pygments_lexer": "ipython3",
   "version": "3.11.9"
  }
 },
 "nbformat": 4,
 "nbformat_minor": 2
}
