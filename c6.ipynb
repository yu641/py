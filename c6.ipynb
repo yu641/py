{
 "cells": [
  {
   "cell_type": "markdown",
   "metadata": {},
   "source": [
    "# 데이터의 연산"
   ]
  },
  {
   "cell_type": "markdown",
   "metadata": {},
   "source": [
    "### 연산자\n",
    "파이썬 연산자 순위: 산술 연산자 > 관계 연산자 > 논리 연산자"
   ]
  },
  {
   "cell_type": "markdown",
   "metadata": {},
   "source": [
    "##### 산술 연산자\n",
    "숫자형 데이터에만 사용 가능"
   ]
  },
  {
   "cell_type": "code",
   "execution_count": 24,
   "metadata": {},
   "outputs": [
    {
     "name": "stdout",
     "output_type": "stream",
     "text": [
      "2+3 = 5\n",
      "2.0+3 = 5.0\n",
      "2.0+3.0 = 5.0\n",
      "\"2\"+\"3\" = '23'\n",
      "unsupported operand type(s) for +: 'int' and 'str'\n"
     ]
    }
   ],
   "source": [
    "print(f'{2+3 = }')\n",
    "print(f'{2.0+3 = }')\n",
    "print(f'{2.0+3.0 = }')\n",
    "print(f'{\"2\"+\"3\" = }')\n",
    "\n",
    "try:\n",
    "    print(f'{2+\"3\" = }')\n",
    "except Exception as e:\n",
    "    print(e)"
   ]
  },
  {
   "cell_type": "code",
   "execution_count": 21,
   "metadata": {},
   "outputs": [
    {
     "name": "stdout",
     "output_type": "stream",
     "text": [
      "20//3 = 6\n",
      "20%3 = 2\n"
     ]
    }
   ],
   "source": [
    "print(f'{20//3 = }') # 몫\n",
    "print(f'{20%3 = }') # 나머지"
   ]
  },
  {
   "cell_type": "code",
   "execution_count": 19,
   "metadata": {},
   "outputs": [
    {
     "name": "stdout",
     "output_type": "stream",
     "text": [
      "var_x + var_x = 'AbcAbc'\n",
      "var_y + var_y = [100, 2, 3, 100, 2, 3]\n",
      "var_x * 3 = 'AbcAbcAbc'\n",
      "var_y * 3 = [100, 2, 3, 100, 2, 3, 100, 2, 3]\n"
     ]
    }
   ],
   "source": [
    "var_x = 'Abc'\n",
    "var_y = [100, 2, 3]\n",
    "\n",
    "print(f'{var_x + var_x = }')\n",
    "print(f'{var_y + var_y = }')\n",
    "\n",
    "print(f'{var_x * 3 = }')\n",
    "print(f'{var_y * 3 = }')"
   ]
  },
  {
   "cell_type": "markdown",
   "metadata": {},
   "source": [
    "##### 관계 연산: 두 개의 피연산자를 비교, True 또는 False를 반환"
   ]
  },
  {
   "cell_type": "code",
   "execution_count": null,
   "metadata": {},
   "outputs": [
    {
     "name": "stdout",
     "output_type": "stream",
     "text": [
      "(var_y == [1,2,3]) = True\n",
      "(var_y == (1,2,3)) = False\n",
      "(var_y == [1,2]) = False\n",
      "(var_y != [1,2]) = True\n",
      "(var_y > [1,2]) = True\n",
      "(var_y < [1,2]) = False\n"
     ]
    }
   ],
   "source": [
    "var_y = [1,2,3]\n",
    "\n",
    "print(f'{(var_y == [1,2,3]) = }')\n",
    "print(f'{(var_y == (1,2,3)) = }')\n",
    "\n",
    "print(f'{(var_y == [1,2]) = }')\n",
    "print(f'{(var_y != [1,2]) = }')\n",
    "\n",
    "print(f'{(var_y > [1,2]) = }') # 모호함 -> 사용지양양\n",
    "print(f'{(var_y < [1,2]) = }')"
   ]
  },
  {
   "cell_type": "markdown",
   "metadata": {},
   "source": [
    "##### 논리연산: 논리적인 명제를 판단하는 연산자, True 또는 False를 반환(and, or, not)"
   ]
  },
  {
   "cell_type": "code",
   "execution_count": 29,
   "metadata": {},
   "outputs": [
    {
     "data": {
      "text/plain": [
       "True"
      ]
     },
     "execution_count": 29,
     "metadata": {},
     "output_type": "execute_result"
    }
   ],
   "source": [
    "True and True"
   ]
  },
  {
   "cell_type": "code",
   "execution_count": 31,
   "metadata": {},
   "outputs": [
    {
     "name": "stdout",
     "output_type": "stream",
     "text": [
      "var_y = False\n",
      "var_x and var_y = False\n",
      "var_x or var_y = True\n",
      "not var_x = False\n"
     ]
    }
   ],
   "source": [
    "var_x = True\n",
    "var_y = (10 > 20)\n",
    "\n",
    "print(f'{var_y = }')\n",
    "print(f'{var_x and var_y = }')\n",
    "print(f'{var_x or var_y = }')\n",
    "print(f'{not var_x = }')"
   ]
  },
  {
   "cell_type": "code",
   "execution_count": 32,
   "metadata": {},
   "outputs": [
    {
     "name": "stdout",
     "output_type": "stream",
     "text": [
      "(2==3) and (2!=3) = False\n"
     ]
    }
   ],
   "source": [
    "print(f'{(2==3) and (2!=3) = }')"
   ]
  },
  {
   "cell_type": "markdown",
   "metadata": {},
   "source": [
    "##### 멤버쉽 연산: 데이터가 특정 데이터 집합에 포함되어 있는지 확인, True 또는 False 반환\n",
    "in: 포함되어 있으면 참, not in: 포함되어 있지 않으면 참"
   ]
  },
  {
   "cell_type": "code",
   "execution_count": 35,
   "metadata": {},
   "outputs": [
    {
     "name": "stdout",
     "output_type": "stream",
     "text": [
      "(1 in var_y) = True\n",
      "(4 in var_y) = False\n",
      "(\"1\" in var_y) = False\n",
      "(1 not in var_y) = False\n",
      "(4 not in var_y) = True\n"
     ]
    }
   ],
   "source": [
    "var_y = [1,2,3]\n",
    "\n",
    "print(f'{(1 in var_y) = }')\n",
    "print(f'{(4 in var_y) = }')\n",
    "print(f'{(\"1\" in var_y) = }')\n",
    "\n",
    "print(f'{(1 not in var_y) = }')\n",
    "print(f'{(4 not in var_y) = }')"
   ]
  },
  {
   "cell_type": "markdown",
   "metadata": {},
   "source": [
    "##### 식별 연산: 두 개의 데이터가 동일한 객체인지 확인, Ture 또는 False를 반환\n",
    "is: 동일한 객체이면 참, is not: 동일한 객체가 아니면 참"
   ]
  },
  {
   "cell_type": "code",
   "execution_count": null,
   "metadata": {},
   "outputs": [
    {
     "name": "stdout",
     "output_type": "stream",
     "text": [
      "(var_x == 10) =True \n",
      "(var_x is 10) =True \n"
     ]
    },
    {
     "name": "stderr",
     "output_type": "stream",
     "text": [
      "<>:4: SyntaxWarning: \"is\" with a literal. Did you mean \"==\"?\n",
      "<>:4: SyntaxWarning: \"is\" with a literal. Did you mean \"==\"?\n",
      "C:\\Users\\yu\\AppData\\Local\\Temp\\ipykernel_17596\\3695576765.py:4: SyntaxWarning: \"is\" with a literal. Did you mean \"==\"?\n",
      "  print(f'{(var_x is 10) =} ')\n"
     ]
    }
   ],
   "source": [
    "var_x = 10\n",
    "\n",
    "print(f'{(var_x == 10) = } ')\n",
    "print(f'{(var_x is 10) = } ')"
   ]
  },
  {
   "cell_type": "code",
   "execution_count": 48,
   "metadata": {},
   "outputs": [
    {
     "name": "stdout",
     "output_type": "stream",
     "text": [
      "(var_x == var_y) = True \n",
      "(var_x == var_z) = True\n",
      "(var_x is var_y) = False \n",
      "(var_x is var_z) = True\n",
      "(var_x is not var_y) = True\n",
      "(var_x is not var_z) = False\n"
     ]
    }
   ],
   "source": [
    "var_x = 10\n",
    "var_y =10.0\n",
    "var_z = var_x\n",
    "\n",
    "print(f'{(var_x == var_y) = } ')\n",
    "print(f'{(var_x == var_z) = }')\n",
    "\n",
    "print(f'{(var_x is var_y) = } ')\n",
    "print(f'{(var_x is var_z) = }')\n",
    "\n",
    "print(f'{(var_x is not var_y) = }')\n",
    "print(f'{(var_x is not var_z) = }')\n"
   ]
  },
  {
   "cell_type": "markdown",
   "metadata": {},
   "source": [
    "##### 복합 대입 연산(Compound Assignment Operators): 연산과 대입을 동시에 수행"
   ]
  },
  {
   "cell_type": "code",
   "execution_count": 46,
   "metadata": {},
   "outputs": [
    {
     "name": "stdout",
     "output_type": "stream",
     "text": [
      "2\n"
     ]
    }
   ],
   "source": [
    "var_x = 1\n",
    "var_x += 1\n",
    "\n",
    "print(var_x)"
   ]
  },
  {
   "cell_type": "code",
   "execution_count": 51,
   "metadata": {},
   "outputs": [
    {
     "name": "stdout",
     "output_type": "stream",
     "text": [
      "11\n",
      "10\n",
      "20\n",
      "10.0\n",
      "5.0\n",
      "1.0\n",
      "1.0\n"
     ]
    }
   ],
   "source": [
    "var_x = 1\n",
    "\n",
    "var_x += 10; print(var_x)\n",
    "var_x -= 1; print(var_x)\n",
    "var_x *= 2; print(var_x)\n",
    "var_x /= 2; print(var_x)\n",
    "var_x //= 2; print(var_x)\n",
    "var_x %= 2; print(var_x)\n",
    "var_x **= 2; print(var_x)"
   ]
  },
  {
   "cell_type": "markdown",
   "metadata": {},
   "source": [
    "##### 연산의 중첩"
   ]
  },
  {
   "cell_type": "code",
   "execution_count": 57,
   "metadata": {},
   "outputs": [
    {
     "name": "stdout",
     "output_type": "stream",
     "text": [
      "13\n",
      "256\n",
      "True\n",
      "False\n",
      "False\n"
     ]
    }
   ],
   "source": [
    "print(2**3+5)\n",
    "print(2**(3+5))\n",
    "print(2+3 <= 4+5)\n",
    "print(not 2+3 <= 4*5)\n",
    "print(not ((2+3) <= (4*5)))"
   ]
  }
 ],
 "metadata": {
  "kernelspec": {
   "display_name": "Python 3",
   "language": "python",
   "name": "python3"
  },
  "language_info": {
   "codemirror_mode": {
    "name": "ipython",
    "version": 3
   },
   "file_extension": ".py",
   "mimetype": "text/x-python",
   "name": "python",
   "nbconvert_exporter": "python",
   "pygments_lexer": "ipython3",
   "version": "3.11.9"
  }
 },
 "nbformat": 4,
 "nbformat_minor": 2
}
